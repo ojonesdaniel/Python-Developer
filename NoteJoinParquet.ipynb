{
 "cells": [
  {
   "cell_type": "code",
   "execution_count": 1,
   "id": "f4e483a8",
   "metadata": {},
   "outputs": [],
   "source": [
    "# Variaveis com os caminhos\n",
    "mes3 = 'C:/Users/Daniel Marques/OneDrive - IVORY IT SERVIÇOS EM INFORMÁTICA EIRELI EPP/Documentos/1.   INFRA-LOCAL/Dashboards/DASH FINANÇAS IVORY/Bases para usar/arquivos parquet/marco.parquet' \n",
    "mes4 = 'C:/Users/Daniel Marques/OneDrive - IVORY IT SERVIÇOS EM INFORMÁTICA EIRELI EPP/Documentos/1.   INFRA-LOCAL/Dashboards/DASH FINANÇAS IVORY/Bases para usar/arquivos parquet/abril.parquet' \n",
    "mes5 = 'C:/Users/Daniel Marques/OneDrive - IVORY IT SERVIÇOS EM INFORMÁTICA EIRELI EPP/Documentos/1.   INFRA-LOCAL/Dashboards/DASH FINANÇAS IVORY/Bases para usar/arquivos parquet/maio.parquet' \n",
    "mes6 = 'C:/Users/Daniel Marques/OneDrive - IVORY IT SERVIÇOS EM INFORMÁTICA EIRELI EPP/Documentos/1.   INFRA-LOCAL/Dashboards/DASH FINANÇAS IVORY/Bases para usar/arquivos parquet/junho.parquet' \n",
    "\n",
    "\n",
    "arquivo_final = 'C:/Users/Daniel Marques/OneDrive - IVORY IT SERVIÇOS EM INFORMÁTICA EIRELI EPP/Documentos/1.   INFRA-LOCAL/Dashboards/DASH FINANÇAS IVORY/Bases para usar/arquivos parquet/basefinanças.parquet'\n",
    "\n",
    "\n"
   ]
  },
  {
   "cell_type": "code",
   "execution_count": 2,
   "id": "ba95e473",
   "metadata": {},
   "outputs": [],
   "source": [
    "import pandas as pd\n",
    "\n",
    "# Carrega os dois arquivos Parquet\n",
    "df1 = pd.read_parquet(mes3)\n",
    "df2 = pd.read_parquet(mes4)\n",
    "df3 = pd.read_parquet(mes5)\n",
    "df4 = pd.read_parquet(mes6)\n",
    "\n",
    "# Junta os DataFrames\n",
    "df_final = pd.concat([df1, df2, df3, df4], ignore_index=True)\n",
    "\n",
    "# Salva o resultado em um novo arquivo Parquet\n",
    "df_final.to_parquet(arquivo_final)"
   ]
  }
 ],
 "metadata": {
  "kernelspec": {
   "display_name": ".venv",
   "language": "python",
   "name": "python3"
  },
  "language_info": {
   "codemirror_mode": {
    "name": "ipython",
    "version": 3
   },
   "file_extension": ".py",
   "mimetype": "text/x-python",
   "name": "python",
   "nbconvert_exporter": "python",
   "pygments_lexer": "ipython3",
   "version": "3.12.10"
  }
 },
 "nbformat": 4,
 "nbformat_minor": 5
}
